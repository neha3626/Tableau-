{
 "cells": [
  {
   "cell_type": "markdown",
   "id": "5c038e23",
   "metadata": {},
   "source": [
    "# Tableau:"
   ]
  },
  {
   "cell_type": "markdown",
   "id": "a11395e6",
   "metadata": {},
   "source": [
    "What is Tableau?"
   ]
  },
  {
   "cell_type": "markdown",
   "id": "fb3aa676",
   "metadata": {},
   "source": [
    "Tableau is the one of the most data visualization tool\n",
    "\n",
    "data visualization tool\n",
    "\n",
    "row format to understandable format\n",
    "\n",
    "non technical users"
   ]
  },
  {
   "cell_type": "markdown",
   "id": "90c0d333",
   "metadata": {},
   "source": [
    "# Tableau features:"
   ]
  },
  {
   "cell_type": "markdown",
   "id": "8511d19b",
   "metadata": {},
   "source": [
    "Visualization\n",
    "\n",
    "performance\n",
    "\n",
    "Depth of Discovery\n",
    "\n",
    "Data Source Connectors\n",
    "\n",
    "Community"
   ]
  },
  {
   "cell_type": "markdown",
   "id": "92bb9d87",
   "metadata": {},
   "source": [
    "Got to know tableau makes real sense only if you have with very good data visualization"
   ]
  },
  {
   "cell_type": "markdown",
   "id": "375435e4",
   "metadata": {},
   "source": [
    "# Tableau product suite."
   ]
  },
  {
   "cell_type": "markdown",
   "id": "8b68f0f0",
   "metadata": {},
   "source": [
    "Business Intelligence - Nut sell:"
   ]
  },
  {
   "cell_type": "markdown",
   "id": "f510bf1b",
   "metadata": {},
   "source": [
    "Steps and products in tableau:"
   ]
  },
  {
   "cell_type": "markdown",
   "id": "7938d212",
   "metadata": {},
   "source": [
    "Step-1, Transactions Stored : tableau which is help you to stroing the data into tde file system or hyper format\n",
    "\n",
    "Step-2, Tableau prep builder-Data Prepration : Tableau prep builder it is basically use for Data Cleaning \n",
    "    \n",
    "Step-3, Data Analysis : there are two things\n",
    "    \n",
    "    Tableau pubilc: it is used for somebody wants to save the pocket go for public\n",
    "    Tableau desktop: there are two categories\n",
    "        \n",
    "        1) Personal\n",
    "        \n",
    "        2) professional\n",
    "        \n",
    "Step-4 Insights, Decisions and outcome: safe,Collaborate,Robust,tools,Cloud  , So thease are certain things which is assosiate with the point Insights, Decisions and outcome\n",
    "\n",
    "there is multiple tools:\n",
    "\n",
    "Tableau server: it is basically use for share the visulation and the works, which is going to be generated in the tableau desktop application, if you want to increase your sharing of dashbord in your tableau server you should always public your work.\n",
    "\n",
    "Tableau Online: the data can be published online, it doesn't have any stores limit.\n",
    "\n",
    "Tableau mobile: Api support is also there you can start working with your mobile.\n",
    "\n",
    "Tableau Reader: Tableau Reader is basically your tool which will allow you to viasualiazition and workbooks generated using in your tableau public or tableau desktop.\n",
    "\n"
   ]
  },
  {
   "cell_type": "markdown",
   "id": "a0fdf5f1",
   "metadata": {},
   "source": [
    "# How Does Tableau Work.:\n",
    "\n",
    "Work flow:"
   ]
  },
  {
   "cell_type": "markdown",
   "id": "6dd655d9",
   "metadata": {},
   "source": [
    "\n",
    "step1.Launch\n",
    "\n",
    "step2. Connect & Extract to different platform, ex- Excel,Oracal,Amazon,pdf\n",
    "\n",
    "step3. Data Engineer\n",
    "\n",
    "step4. Data Reader, Tableau server -  Data Engineer will publised the dashboard with Tableau server or Data Reader\n",
    "\n",
    "\n",
    "Work flow: use the connecter , get the data from multiple sources , use the tableau desktop or tableau online and you try to perform data viasulaziation , you share the viasulaziation and you can publicity in server or it could be available on reader."
   ]
  },
  {
   "cell_type": "markdown",
   "id": "eb4e66d2",
   "metadata": {},
   "source": [
    "# Tableau Architecture."
   ]
  },
  {
   "cell_type": "markdown",
   "id": "e17ef86a",
   "metadata": {},
   "source": [
    "basically there are three major Tableau Architecture:\n",
    "\n",
    "1.data sources\n",
    "\n",
    "2.tablues desktop & server\n",
    "\n",
    "3.clients\n",
    "\n",
    "\n",
    "\n",
    "there are two types of getting data from multiple sources\n",
    "\n",
    "1> live - it is used for instant result.\n",
    "\n",
    "2> extract - it means you will going to have local copy of it,\n",
    "\n",
    "Desktop -desktop is a version where in  this is actually going to act like a authoring tools bacasally,because any kind of viasualiziation and deshbord make out of the data this is where going to happen.\n",
    "\n",
    "once performce all things it is send to the multiple clients\n",
    "\n",
    "like :-\n",
    "\n",
    "tableau reader(work book)\n",
    "\n",
    "Static Reader(Drill-Down,or filtring not possible)\n",
    "\n",
    "web & mobile users(Mass Consuption-Tableau server)\n",
    "\n",
    "\n",
    "this is all about your deshtop\n",
    "\n",
    "\n",
    "\n",
    "In tableau server:- it is bascally going to take care of your data security as well se the users.\n",
    "\n",
    "\n",
    "\n",
    "clinet : client is nothing but it is your end users ,so the end users is going to make use your tableau\n"
   ]
  },
  {
   "cell_type": "markdown",
   "id": "49303356",
   "metadata": {},
   "source": [
    "Conventional Analysis:"
   ]
  },
  {
   "cell_type": "markdown",
   "id": "0e057546",
   "metadata": {},
   "source": [
    "Main segments:"
   ]
  },
  {
   "cell_type": "markdown",
   "id": "acfdb75c",
   "metadata": {},
   "source": [
    "1. data sources\n",
    "\n",
    "2. tableau server\n",
    "\n",
    "3. Tableau desktop and the client"
   ]
  },
  {
   "cell_type": "markdown",
   "id": "049e7d33",
   "metadata": {},
   "source": [
    "Tableau server components:\n",
    "\n",
    "\n",
    "8 Major Components of Tableau Server Architecture:\n",
    "    \n",
    "     1. Gateway · 2. Application Server · 3. Repository · 4. VizQL Server · 5. Data engine · 6. Backgrounder · 7. Data Server · 8. Search\n",
    "    \n",
    "    \n",
    "    1.Gateway :-The Tableau Server gateway process is an Apache web server component ( httpd.exe ). Its role is to handle requests to the server from all clients\n",
    "    \n",
    "    \n",
    "    2. Application Server\n",
    "    \n",
    "    \n",
    "    3. Repository\n",
    "    \n",
    "    \n",
    "    4. VizQL Server\n",
    "    \n",
    "    5. Data engine\n",
    "    \n",
    "    6. Backgrounder\n",
    "    \n",
    "    7. Data Server\n",
    "    \n",
    "    8. Search"
   ]
  },
  {
   "cell_type": "markdown",
   "id": "ba064cd8",
   "metadata": {},
   "source": [
    "Tableau server is suppose to a communication tools"
   ]
  },
  {
   "cell_type": "markdown",
   "id": "c4cff7ec",
   "metadata": {},
   "source": [
    "# Understanding the Tableau workspace:"
   ]
  },
  {
   "cell_type": "markdown",
   "id": "7372d723",
   "metadata": {},
   "source": [
    "how does tableau workbooks is going to look\n",
    "\n",
    "\n",
    "in a desktop\n",
    "\n",
    "1st there will show workbooks name\n",
    "\n",
    "2nd will show tool bar\n",
    "\n",
    "in botom will show status bar"
   ]
  },
  {
   "cell_type": "markdown",
   "id": "1224c630",
   "metadata": {},
   "source": [
    "# Connecting to Data _ data source concepts."
   ]
  },
  {
   "cell_type": "markdown",
   "id": "7e71fe98",
   "metadata": {},
   "source": [
    "how to Connect the data:\n",
    "\n",
    "    \n",
    "what important for data analysis:\n",
    "    \n",
    "Deletion - Not every piece of data is crucial\n",
    "\n",
    "Consolidate - multiple formats\n",
    "\n",
    "Transform - Not an appropriate format"
   ]
  },
  {
   "cell_type": "markdown",
   "id": "9f464ff2",
   "metadata": {},
   "source": [
    "setting up data source:After you connect to your data, use the Data Source page to set up the data   "
   ]
  },
  {
   "cell_type": "markdown",
   "id": "267d8fce",
   "metadata": {},
   "source": [
    "How we can manage data source: \n",
    "    \n",
    "    \n",
    "    Summary - things to remember\n",
    "    \n",
    "    Raw data --> connect to tableau-->define the source---> make data suitable for analysis"
   ]
  },
  {
   "cell_type": "markdown",
   "id": "f79e7e96",
   "metadata": {},
   "source": [
    "# Dimensions and Measures.:"
   ]
  },
  {
   "cell_type": "markdown",
   "id": "48ef3237",
   "metadata": {},
   "source": [
    "What happens after connecting to data?"
   ]
  },
  {
   "cell_type": "markdown",
   "id": "e1e6bc15",
   "metadata": {},
   "source": [
    "tableau will do one thing - it will classify each fields which is present in your database as dimension and measurment, means tableau is grouping the fields by there dimensions and mesure"
   ]
  },
  {
   "cell_type": "markdown",
   "id": "a9f2fcf6",
   "metadata": {},
   "source": [
    "What is dimensions?"
   ]
  },
  {
   "cell_type": "markdown",
   "id": "a139eceb",
   "metadata": {},
   "source": [
    " it is the measurement of the length, width, and height of anything. Dimensions are generally expressed as: Length."
   ]
  },
  {
   "cell_type": "markdown",
   "id": "d116293e",
   "metadata": {},
   "source": [
    "fields are dimension if they are \n",
    "\n",
    "Qualititative\n",
    "\n",
    "Categorical\n",
    "\n",
    "independent variable"
   ]
  },
  {
   "cell_type": "markdown",
   "id": "c2ecd1a6",
   "metadata": {},
   "source": [
    "What is measure?"
   ]
  },
  {
   "cell_type": "markdown",
   "id": "2bafbfee",
   "metadata": {},
   "source": [
    "Measures contain numeric, quantitative values that you can measure. Measures can be aggregated. When you drag a measure into the view, Tableau applies an aggregation to that measure (by default).\n",
    "\n",
    "fields are measure if they are\n",
    "\n",
    "Qualititative\n",
    "\n",
    "Numeric values\n",
    "\n",
    "dependent variable"
   ]
  },
  {
   "cell_type": "markdown",
   "id": "1b3ce074",
   "metadata": {},
   "source": [
    "if shows in bule that is dimension\n",
    "\n",
    "if shows in green that is measure"
   ]
  },
  {
   "cell_type": "markdown",
   "id": "db03b512",
   "metadata": {},
   "source": [
    "# Data Types  and Default Properties:"
   ]
  },
  {
   "cell_type": "markdown",
   "id": "949be892",
   "metadata": {},
   "source": [
    "Tableau supports 7 types of data types String values, Date values, Date & Time values, Numeric values, Boolean values, Geographical values, Cluster or mixed values."
   ]
  },
  {
   "cell_type": "markdown",
   "id": "fd476ea5",
   "metadata": {},
   "source": [
    "Default Properties:\n",
    "\n",
    "\n",
    "The Default Properties menu includes default settings for aggregation, comments, number formatting, color, shape, and totals (based on the type of field)."
   ]
  },
  {
   "cell_type": "markdown",
   "id": "b5a415cc",
   "metadata": {},
   "source": [
    "# Tour of Shelves _Marks Card:"
   ]
  },
  {
   "cell_type": "markdown",
   "id": "356c7858",
   "metadata": {},
   "source": [
    "How to build the the structure for visualization?"
   ]
  },
  {
   "cell_type": "markdown",
   "id": "00ddbcd0",
   "metadata": {},
   "source": [
    "you need to place the specific fields on the shelves and the card"
   ]
  },
  {
   "cell_type": "markdown",
   "id": "1c7a4589",
   "metadata": {},
   "source": [
    "shelves: Columns. Rows.\n",
    "    \n",
    "Marks card : The Bar mark type is useful when you want to compare measures across categories, or when you want to break data down into stacked bars."
   ]
  },
  {
   "cell_type": "markdown",
   "id": "35122f31",
   "metadata": {},
   "source": [
    "# Using Show Me:"
   ]
  },
  {
   "cell_type": "markdown",
   "id": "bc4ed6eb",
   "metadata": {},
   "source": [
    "show me as a option has lots of chart is available 24 typs of charts"
   ]
  },
  {
   "cell_type": "markdown",
   "id": "edc84a47",
   "metadata": {},
   "source": [
    "# Saving and Sharing your work_overview:"
   ]
  },
  {
   "cell_type": "markdown",
   "id": "540265b2",
   "metadata": {},
   "source": [
    "Multiple ways of saving - Desktop"
   ]
  },
  {
   "cell_type": "markdown",
   "id": "a8f42e45",
   "metadata": {},
   "source": [
    "In Tableau Desktop, there are several ways for you to save your work:\n",
    "\n",
    "Automatically save a workbook - Automatically saves the workbook in the same location as the original file. In the event of a crash, a recovered version is available.\n",
    "\n",
    "Save a workbook – Saves all open worksheets.\n",
    "\n",
    "Save a packaged workbook – Saves the workbook along with all referenced local file data sources and images into a single file.\n",
    "\n",
    "Save a bookmark – Saves the current worksheet."
   ]
  },
  {
   "cell_type": "markdown",
   "id": "c7a230a6",
   "metadata": {},
   "source": [
    "Automatically save a workbook:\n",
    "\n",
    "Tableau Desktop automatically saves your work for you every few minutes - no more losing hours of work if Tableau Desktop closes unexpectedly. This feature is enabled by default, but you can turn it off from the toolbar under Help >Settings and Performance>Enable Autosave."
   ]
  },
  {
   "cell_type": "markdown",
   "id": "7d06d7e2",
   "metadata": {},
   "source": [
    "Save a workbook:\n",
    "\n",
    "When you open Tableau Desktop, it automatically creates a new workbook. Workbooks hold the work you create and consist of one or more worksheets. Each worksheet contains a particular view of your data.\n",
    "\n",
    "To save a Tableau workbook:\n",
    "\n",
    "Select File > Save.\n",
    "\n",
    "Specify the workbook file name in the Save As dialog box."
   ]
  },
  {
   "cell_type": "markdown",
   "id": "16d50d6b",
   "metadata": {},
   "source": [
    "Save a bookmark:\n",
    "    \n",
    "    To save a Tableau bookmark:\n",
    "\n",
    "Select Window > Bookmark > Create Bookmark.\n",
    "\n",
    "Specify the bookmark file name and location in the Create Bookmark dialog box."
   ]
  },
  {
   "cell_type": "markdown",
   "id": "cbbe6760",
   "metadata": {},
   "source": [
    "Save a packaged workbook:\n",
    "\n",
    "\n",
    "Packaged workbooks contain the workbook along with a copy of any local file data sources and background images. The workbook is no longer linked to the original data sources and images. These workbooks are saved with a .twbx file extension. Other users can open the packaged workbook using Tableau Desktop or Tableau Reader, and do not need access to the data sources that the workbook includes"
   ]
  },
  {
   "cell_type": "markdown",
   "id": "5c597637",
   "metadata": {},
   "source": [
    "# How do I save in Tableau Online?"
   ]
  },
  {
   "cell_type": "markdown",
   "id": "7843f2d8",
   "metadata": {},
   "source": [
    "When you create a new workbook, or edit an existing workbook on Tableau Server or Tableau Cloud, you can save your work at any time. To save a workbook: In web editing mode, select File > Save. Note: If the workbook has never been saved, you must select File > Save As."
   ]
  },
  {
   "cell_type": "markdown",
   "id": "f8e36a03",
   "metadata": {},
   "source": [
    "# Save Workbooks to Tableau Public:\n",
    "    \n",
    "With your workbook open in Tableau Desktop, select Server > Tableau Public > Save to Tableau Public. Note: This option is available only if you've created a viz that contains at least one field.\n",
    "    \n",
    "Sign in using your Tableau Public account. ...\n",
    "\n",
    "Type a name for the workbook and click Save."
   ]
  },
  {
   "cell_type": "markdown",
   "id": "aafdc611",
   "metadata": {},
   "source": [
    "# Sharing the work - Tableau public:"
   ]
  },
  {
   "cell_type": "markdown",
   "id": "4875e5fc",
   "metadata": {},
   "source": [
    "Select Server > Tableau Public > Save to Tableau Public.\n",
    "\n",
    "Enter your Tableau Public credentials in the dialog box.\n",
    "\n",
    "If you see this dialog box, open the Data Source page. Then in the top-right corner, change the Connection type from Live to Extract.\n",
    "\n",
    "\n",
    "For the second (and last) time, select Server > Tableau Public > Save to Tableau Public.\n",
    "\n",
    "When your browser opens, review your embedded story. It will look like this:\n",
    "    \n",
    "Click Edit Details to update the title of your viz, add a description, and more.\n",
    "\n",
    "Click Save.\n",
    "\n",
    "Your story is now live on the web.\n",
    "\n",
    "To share with colleagues, click Share at the bottom of your viz.\n",
    "\n",
    "How do you want to share your story?\n",
    "\n",
    "\n",
    "1) Embed on your website: Copy the Embed Code and paste it in your web page HTML.\n",
    "    \n",
    "2)Send a link: Copy the Link and send the link to your colleagues.\n",
    "\n",
    "3)Send an email using your default email client by clicking the email icon.\n",
    "\n",
    "4)Share on Twitter or Facebook by clicking the appropriate icon.\n",
    "\n",
    "\n",
    "    \n"
   ]
  },
  {
   "cell_type": "markdown",
   "id": "344dd743",
   "metadata": {},
   "source": [
    "# Sharing the work - tableau server:"
   ]
  },
  {
   "cell_type": "markdown",
   "id": "2ff4e644",
   "metadata": {},
   "source": [
    "Select Server > Publish Workbook or click Share on the toolbar.\n",
    "\n",
    "Enter the name of the server (or IP address) that you want to connect to in the dialog box and click Connect.\n",
    "\n",
    "In the Name field, enter Improve Profits in the South.\n",
    "\n",
    "If you want, enter a description for reference, for example \"Take a look at the story I built in Tableau Desktop!\"\n",
    "\n",
    "Under Sheets, click Edit, and then clear all sheets except Improve Profits in the South.\n",
    "\n",
    "Click Publish.\n",
    "\n",
    "Tableau Server opens in your internet browser. If prompted, enter your server credentials.\n",
    "\n",
    "The Publishing Complete dialog box lets you know that your story is ready to view.\n",
    "\n"
   ]
  },
  {
   "cell_type": "code",
   "execution_count": null,
   "id": "2fa60d1c",
   "metadata": {},
   "outputs": [],
   "source": []
  }
 ],
 "metadata": {
  "kernelspec": {
   "display_name": "Python 3 (ipykernel)",
   "language": "python",
   "name": "python3"
  },
  "language_info": {
   "codemirror_mode": {
    "name": "ipython",
    "version": 3
   },
   "file_extension": ".py",
   "mimetype": "text/x-python",
   "name": "python",
   "nbconvert_exporter": "python",
   "pygments_lexer": "ipython3",
   "version": "3.9.7"
  }
 },
 "nbformat": 4,
 "nbformat_minor": 5
}
